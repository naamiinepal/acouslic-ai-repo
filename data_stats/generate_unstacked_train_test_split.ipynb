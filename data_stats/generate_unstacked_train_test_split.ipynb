{
 "cells": [
  {
   "cell_type": "code",
   "execution_count": 19,
   "metadata": {},
   "outputs": [],
   "source": [
    "import pandas as pd\n",
    "from dotenv import dotenv_values\n",
    "import yaml\n",
    "from pathlib import Path"
   ]
  },
  {
   "cell_type": "code",
   "execution_count": 13,
   "metadata": {},
   "outputs": [
    {
     "name": "stdout",
     "output_type": "stream",
     "text": [
      "OrderedDict([('DS_RAW', '/mnt/Enterprise2/PUBLIC_DATASETS/acouslic-ai/')])\n"
     ]
    },
    {
     "data": {
      "text/plain": [
       "{'OPTIMAL': 1,\n",
       " 'SUBOPTIMAL': 2,\n",
       " 'TOTAL_FRAMECOUNT': 840,\n",
       " 'TOTAL_SWEEPS': 6,\n",
       " 'singlestack_dir': 'single_stack',\n",
       " 'image_dir': 'stacked_fetal_ultrasound',\n",
       " 'mask_dir': 'stacked_fetal_abdomen'}"
      ]
     },
     "execution_count": 13,
     "metadata": {},
     "output_type": "execute_result"
    }
   ],
   "source": [
    "env = dotenv_values(\"../.env\")\n",
    "print(env)\n",
    "\n",
    "consts = None\n",
    "with open('../consts.yaml') as f:\n",
    "    try:\n",
    "        consts = yaml.safe_load(f)\n",
    "    except yaml.YAMLError as exc:\n",
    "        print(exc)    \n",
    "consts"
   ]
  },
  {
   "cell_type": "code",
   "execution_count": 37,
   "metadata": {},
   "outputs": [],
   "source": [
    "train_filestems_path = 'artifacts/train_test_split/ACOUSLIC_AI-train_split.csv'\n",
    "test_filestems_path = 'artifacts/train_test_split/ACOUSLIC_AI-test_split.csv'\n",
    "\n",
    "train_filestems_df =  pd.read_csv(train_filestems_path)\n",
    "test_filestems_df = pd.read_csv(test_filestems_path)\n",
    "\n",
    "assert len(train_filestems_df) == 270\n",
    "assert len(test_filestems_df) == 30"
   ]
  },
  {
   "cell_type": "code",
   "execution_count": 15,
   "metadata": {},
   "outputs": [],
   "source": [
    "full_img_dir = f'{env[\"DS_RAW\"]}/images/unstacked_fetal_ultrasound/{{filestem}}/sweep_id/'\n",
    "full_mask_dir = f'{env[\"DS_RAW\"]}/masks/unstacked_fetal_ultrasound/{{filestem}}/sweep_id/'"
   ]
  },
  {
   "cell_type": "code",
   "execution_count": 43,
   "metadata": {},
   "outputs": [],
   "source": [
    "def save_to_csv(csv_path, dataframe):\n",
    "    image_paths = []\n",
    "    mask_paths = []\n",
    "    for filestem in dataframe['filestem']:\n",
    "        print(filestem)\n",
    "        full_image_paths = sorted(Path(full_img_dir.format(filestem = filestem)).glob('*.mha'))\n",
    "        full_mask_paths = sorted(Path(full_mask_dir.format(filestem = filestem)).glob('*.mha'))\n",
    "        image_paths.extend(full_image_paths)\n",
    "        mask_paths.extend(full_mask_paths)\n",
    "    image_mask_paths_dict = { image_path: mask_path for image_path, mask_path in zip(image_paths, mask_paths)}\n",
    "    train_full_paths_csv_df = pd.DataFrame(image_mask_paths_dict.items(),columns=['image_path','mask_path'])\n",
    "    train_full_paths_csv_df.to_csv(csv_path,index=False)"
   ]
  },
  {
   "cell_type": "code",
   "execution_count": null,
   "metadata": {},
   "outputs": [],
   "source": [
    "save_to_csv('artifacts/full_paths/train_full_paths.csv',train_filestems_df)\n",
    "save_to_csv('artifacts/full_paths/test_full_paths.csv',test_filestems_df)\n"
   ]
  },
  {
   "cell_type": "code",
   "execution_count": 46,
   "metadata": {},
   "outputs": [
    {
     "name": "stdout",
     "output_type": "stream",
     "text": [
      "0d0a3298-a9c6-43c3-a9e3-df3a9c0afa06\n",
      "7f9d11c1-349b-4304-a672-4ed3f532d2f0\n",
      "9badcfbd-937a-4614-bbce-2b74f176b805\n",
      "dc381d50-124d-4bc8-b504-9c9c3a3ae697\n"
     ]
    }
   ],
   "source": [
    "save_to_csv('artifacts/full_paths/sample_train_full_paths.csv',train_filestems_df[:2])\n",
    "save_to_csv('artifacts/full_paths/sample_test_full_paths.csv',test_filestems_df[:2])\n"
   ]
  },
  {
   "cell_type": "code",
   "execution_count": null,
   "metadata": {},
   "outputs": [],
   "source": []
  },
  {
   "cell_type": "code",
   "execution_count": null,
   "metadata": {},
   "outputs": [],
   "source": []
  }
 ],
 "metadata": {
  "kernelspec": {
   "display_name": "Python 3",
   "language": "python",
   "name": "python3"
  },
  "language_info": {
   "codemirror_mode": {
    "name": "ipython",
    "version": 3
   },
   "file_extension": ".py",
   "mimetype": "text/x-python",
   "name": "python",
   "nbconvert_exporter": "python",
   "pygments_lexer": "ipython3",
   "version": "3.10.14"
  }
 },
 "nbformat": 4,
 "nbformat_minor": 2
}
