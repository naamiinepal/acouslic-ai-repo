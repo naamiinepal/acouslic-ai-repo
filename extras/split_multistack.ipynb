{
 "cells": [
  {
   "cell_type": "code",
   "execution_count": 1,
   "metadata": {},
   "outputs": [],
   "source": [
    "import SimpleITK as sitk\n",
    "from dotenv import load_dotenv\n",
    "from dotenv import dotenv_values\n",
    "from glob import glob\n",
    "from pathlib import Path\n",
    "import os\n",
    "import numpy as np\n",
    "import yaml\n",
    "from tqdm import tqdm\n",
    "import matplotlib.pyplot as plt\n",
    "from tqdm import tqdm\n",
    "\n",
    "from acouslic_utils import *"
   ]
  },
  {
   "cell_type": "code",
   "execution_count": 2,
   "metadata": {},
   "outputs": [
    {
     "name": "stdout",
     "output_type": "stream",
     "text": [
      "OrderedDict([('DS_RAW', '/mnt/Enterprise2/PUBLIC_DATASETS/acouslic-ai/')])\n"
     ]
    },
    {
     "data": {
      "text/plain": [
       "{'OPTIMAL': 1,\n",
       " 'SUBOPTIMAL': 2,\n",
       " 'TOTAL_FRAMECOUNT': 840,\n",
       " 'TOTAL_SWEEPS': 6,\n",
       " 'singlestack_dir': 'single_stack'}"
      ]
     },
     "execution_count": 2,
     "metadata": {},
     "output_type": "execute_result"
    }
   ],
   "source": [
    "env = dotenv_values(\".env\")\n",
    "print(env)\n",
    "\n",
    "consts = None\n",
    "with open('consts.yaml') as f:\n",
    "    try:\n",
    "        consts = yaml.safe_load(f)\n",
    "    except yaml.YAMLError as exc:\n",
    "        print(exc)    \n",
    "consts"
   ]
  },
  {
   "cell_type": "code",
   "execution_count": 13,
   "metadata": {},
   "outputs": [],
   "source": [
    "def create_sitk_img_from_arr(arr:np.array,orig_sitk_img:sitk.Image,override_spacing = [0.28,0.28,0.28]):\n",
    "    sitk_img = sitk.GetImageFromArray(arr)\n",
    "    override_spacing.reverse()\n",
    "    sitk_img.SetSpacing(override_spacing)\n",
    "    sitk_img.SetDirection(orig_sitk_img.GetDirection())\n",
    "    return sitk_img"
   ]
  },
  {
   "cell_type": "code",
   "execution_count": 21,
   "metadata": {},
   "outputs": [],
   "source": [
    "def unstack_volume(img_path, output_path_template):\n",
    "    \"\"\" saves multistack volume into separate sweep-wise volume\"\"\"\n",
    "    img = read_image(img_path)\n",
    "    img_np = sitk_to_numpy(img)\n",
    "\n",
    "    new_paths = []\n",
    "\n",
    "    FRAMES_PER_SWEEP = int(consts['TOTAL_FRAMECOUNT'] / consts['TOTAL_SWEEPS'])\n",
    "    sweep_start_frames = range(0,consts['TOTAL_FRAMECOUNT']+1, FRAMES_PER_SWEEP)\n",
    "    start_frame_end_frame_generator = zip(sweep_start_frames,sweep_start_frames[1:])\n",
    "\n",
    "    for i,(start_frame,end_frame) in enumerate(start_frame_end_frame_generator):\n",
    "        sweep_arr = img_np[:,:,start_frame: end_frame]\n",
    "        sweep_sitk_img = create_sitk_img_from_arr(sweep_arr,img)\n",
    "        output_img_path = output_path_template.format(base_path = env['DS_RAW'],file_stem=get_stem(img_path),sweep_id=i+1)\n",
    "        Path(output_img_path).parent.mkdir(parents=True,exist_ok=True)\n",
    "        sitk.WriteImage(sweep_sitk_img,output_img_path)\n",
    "        new_paths.append(output_img_path)\n",
    "    return new_paths"
   ]
  },
  {
   "cell_type": "code",
   "execution_count": 19,
   "metadata": {},
   "outputs": [],
   "source": [
    "new_image_paths = []\n",
    "new_mask_paths = []\n"
   ]
  },
  {
   "cell_type": "code",
   "execution_count": 20,
   "metadata": {},
   "outputs": [],
   "source": [
    "\n",
    "expected_img_path = '{base_path}/images/unstacked_fetal_ultrasound/{file_stem}/sweep_id/{sweep_id}.mha'\n",
    "expected_mask_path = '{base_path}/masks/unstacked_fetal_ultrasound/{file_stem}/sweep_id/{sweep_id}.mha'"
   ]
  },
  {
   "cell_type": "code",
   "execution_count": 22,
   "metadata": {},
   "outputs": [
    {
     "name": "stderr",
     "output_type": "stream",
     "text": [
      "Unstacking mha files:   0%|          | 0/318 [00:00<?, ?it/s]"
     ]
    },
    {
     "name": "stderr",
     "output_type": "stream",
     "text": [
      "Unstacking mha files:  98%|█████████▊| 312/318 [1:01:51<01:11, 11.89s/it]\n"
     ]
    }
   ],
   "source": [
    "image_dir = Path(env['DS_RAW'])/'images'\n",
    "image_paths = sorted(image_dir.rglob('*.mha'))\n",
    "\n",
    "mask_dir =  Path(env['DS_RAW'])/'masks'\n",
    "mask_paths = sorted(mask_dir.rglob('*.mha'))\n",
    "\n",
    "for img_path, mask_path in tqdm(zip(image_paths,mask_paths), desc=\"Unstacking mha files\", total=len(image_paths)):\n",
    "    new_image_paths.extend(unstack_volume(img_path,expected_img_path))\n",
    "    new_mask_paths.extend(unstack_volume(mask_path,expected_mask_path))"
   ]
  },
  {
   "cell_type": "code",
   "execution_count": 25,
   "metadata": {},
   "outputs": [
    {
     "data": {
      "text/plain": [
       "(1872, 1872)"
      ]
     },
     "execution_count": 25,
     "metadata": {},
     "output_type": "execute_result"
    }
   ],
   "source": [
    "len(new_image_paths), len(new_mask_paths)"
   ]
  },
  {
   "cell_type": "code",
   "execution_count": 27,
   "metadata": {},
   "outputs": [],
   "source": [
    "import pandas as pd\n",
    "\n",
    "df = pd.DataFrame({\"image_path\": new_image_paths, \"mask_path\": new_mask_paths})\n",
    "df.to_csv(\"/mnt/Enterprise2/PUBLIC_DATASETS/acouslic-ai/acouslic_unstacked_sweeps.csv\")"
   ]
  },
  {
   "cell_type": "code",
   "execution_count": 26,
   "metadata": {},
   "outputs": [
    {
     "name": "stdout",
     "output_type": "stream",
     "text": [
      "/mnt/Enterprise2/PUBLIC_DATASETS/acouslic-ai//images/unstacked_fetal_ultrasound/0199616b-bdeb-4119-97a3-a5a3571bd641/sweep_id/1.mha\n",
      "/mnt/Enterprise2/PUBLIC_DATASETS/acouslic-ai//images/unstacked_fetal_ultrasound/0199616b-bdeb-4119-97a3-a5a3571bd641/sweep_id/2.mha\n",
      "/mnt/Enterprise2/PUBLIC_DATASETS/acouslic-ai//images/unstacked_fetal_ultrasound/0199616b-bdeb-4119-97a3-a5a3571bd641/sweep_id/3.mha\n",
      "/mnt/Enterprise2/PUBLIC_DATASETS/acouslic-ai//images/unstacked_fetal_ultrasound/0199616b-bdeb-4119-97a3-a5a3571bd641/sweep_id/4.mha\n",
      "/mnt/Enterprise2/PUBLIC_DATASETS/acouslic-ai//images/unstacked_fetal_ultrasound/0199616b-bdeb-4119-97a3-a5a3571bd641/sweep_id/5.mha\n",
      "/mnt/Enterprise2/PUBLIC_DATASETS/acouslic-ai//images/unstacked_fetal_ultrasound/0199616b-bdeb-4119-97a3-a5a3571bd641/sweep_id/6.mha\n"
     ]
    }
   ],
   "source": [
    "\n",
    "      "
   ]
  },
  {
   "cell_type": "code",
   "execution_count": null,
   "metadata": {},
   "outputs": [],
   "source": []
  }
 ],
 "metadata": {
  "kernelspec": {
   "display_name": "Python 3",
   "language": "python",
   "name": "python3"
  },
  "language_info": {
   "codemirror_mode": {
    "name": "ipython",
    "version": 3
   },
   "file_extension": ".py",
   "mimetype": "text/x-python",
   "name": "python",
   "nbconvert_exporter": "python",
   "pygments_lexer": "ipython3",
   "version": "3.10.12"
  }
 },
 "nbformat": 4,
 "nbformat_minor": 2
}
